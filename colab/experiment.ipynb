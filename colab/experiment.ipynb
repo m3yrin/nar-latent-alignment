{
  "nbformat": 4,
  "nbformat_minor": 0,
  "metadata": {
    "colab": {
      "name": "experiment.ipynb",
      "provenance": [],
      "private_outputs": true,
      "collapsed_sections": [],
      "toc_visible": true,
      "authorship_tag": "ABX9TyMD+lEXKz6pPGZ0xQIQs4up",
      "include_colab_link": true
    },
    "kernelspec": {
      "name": "python3",
      "display_name": "Python 3"
    },
    "accelerator": "GPU"
  },
  "cells": [
    {
      "cell_type": "markdown",
      "metadata": {
        "id": "view-in-github",
        "colab_type": "text"
      },
      "source": [
        "<a href=\"https://colab.research.google.com/github/m3yrin/nar-latent-alignment/blob/master/colab/experiment.ipynb\" target=\"_parent\"><img src=\"https://colab.research.google.com/assets/colab-badge.svg\" alt=\"Open In Colab\"/></a>"
      ]
    },
    {
      "cell_type": "markdown",
      "metadata": {
        "id": "JhInv4cvyTz6",
        "colab_type": "text"
      },
      "source": [
        "## Sample notebook for https://github.com/m3yrin/nar-latent-alignment\n",
        "Auther: @m3yrin\n",
        "* Tested on Google Colaboratory.\n",
        "* Check gpu is enabled."
      ]
    },
    {
      "cell_type": "markdown",
      "metadata": {
        "id": "IUNaTSS3OU6L",
        "colab_type": "text"
      },
      "source": [
        "## Preparation"
      ]
    },
    {
      "cell_type": "code",
      "metadata": {
        "id": "h3NF4yrpTpQU",
        "colab_type": "code",
        "colab": {}
      },
      "source": [
        "# check gpu is enabled.\n",
        "!nvidia-smi"
      ],
      "execution_count": 0,
      "outputs": []
    },
    {
      "cell_type": "code",
      "metadata": {
        "id": "PUO_LI-uO1EW",
        "colab_type": "code",
        "colab": {}
      },
      "source": [
        "# download codes\n",
        "!git clone https://github.com/m3yrin/nar-latent-alignment.git\n",
        "%cd nar-latent-alignment\n",
        "!ls"
      ],
      "execution_count": 0,
      "outputs": []
    },
    {
      "cell_type": "code",
      "metadata": {
        "id": "IJRsxacnO5uO",
        "colab_type": "code",
        "colab": {}
      },
      "source": [
        "!pip install -r requirements.txt"
      ],
      "execution_count": 0,
      "outputs": []
    },
    {
      "cell_type": "code",
      "metadata": {
        "id": "JMxNlleyO7cc",
        "colab_type": "code",
        "colab": {}
      },
      "source": [
        "# download dataset\n",
        "%cd datasets\n",
        "!git clone https://github.com/odashi/small_parallel_enja.git\n",
        "!ls small_parallel_enja\n",
        "%cd ../"
      ],
      "execution_count": 0,
      "outputs": []
    },
    {
      "cell_type": "code",
      "metadata": {
        "id": "AyBocpQ9hRbx",
        "colab_type": "code",
        "colab": {}
      },
      "source": [
        "# check common config.\n",
        "!cat configs/common.jsonnet"
      ],
      "execution_count": 0,
      "outputs": []
    },
    {
      "cell_type": "code",
      "metadata": {
        "id": "6VwVPKSgpHFt",
        "colab_type": "code",
        "colab": {}
      },
      "source": [
        "%%writefile configs/common.jsonnet\n",
        "# if you don't use cuda, cuda_device=-1\n",
        "local cuda_device = 0;\n",
        "\n",
        "# https://arxiv.org/pdf/2004.07437.pdf\n",
        "# Our models consists of 12 self-attention\n",
        "# layers, with 512 hidden size, 2048 filter size, and\n",
        "# 8 attention heads per layer. We use 0.1 dropout\n",
        "# for regularization. \n",
        "\n",
        "{\n",
        "    \"direction\" : \"ja-en\",\n",
        "    \"train_data_path\": \"datasets/small_parallel_enja/train\",\n",
        "    \"validation_data_path\": \"datasets/small_parallel_enja/dev\",\n",
        "\n",
        "    \"embedding_dim\" : 64,\n",
        "    \"feedforward_hidden_dim\" : 2048,\n",
        "    \"num_layers\" : 12,\n",
        "\n",
        "    \"batch_size\" : 128,\n",
        "    \"min_count\" : 2,\n",
        "\n",
        "    \"num_epochs\" : 40,\n",
        "    \"patience\": 10,\n",
        "    \"cuda_device\" : cuda_device,\n",
        "}\n"
      ],
      "execution_count": 0,
      "outputs": []
    },
    {
      "cell_type": "markdown",
      "metadata": {
        "id": "TyqTZo4hOMWb",
        "colab_type": "text"
      },
      "source": [
        "## CTC model"
      ]
    },
    {
      "cell_type": "code",
      "metadata": {
        "id": "gPR7Jj0elwQG",
        "colab_type": "code",
        "colab": {}
      },
      "source": [
        "!cat configs/ctc.jsonnet"
      ],
      "execution_count": 0,
      "outputs": []
    },
    {
      "cell_type": "code",
      "metadata": {
        "id": "IUMVQCEcl2h7",
        "colab_type": "code",
        "colab": {}
      },
      "source": [
        "# %%writefile configs/ctc.jsonnet"
      ],
      "execution_count": 0,
      "outputs": []
    },
    {
      "cell_type": "code",
      "metadata": {
        "id": "qeayk4yYmkYO",
        "colab_type": "code",
        "colab": {}
      },
      "source": [
        "!allennlp train -f --include-package src -s tmp_ctc configs/ctc.jsonnet"
      ],
      "execution_count": 0,
      "outputs": []
    },
    {
      "cell_type": "code",
      "metadata": {
        "id": "lNFmm0enQcm0",
        "colab_type": "code",
        "colab": {}
      },
      "source": [
        "!allennlp evaluate --output-file tmp_ctc/output_test.json --cuda-device 0 --include-package src tmp_ctc/model.tar.gz datasets/small_parallel_enja/test"
      ],
      "execution_count": 0,
      "outputs": []
    },
    {
      "cell_type": "code",
      "metadata": {
        "id": "-rKgOqu1Qcds",
        "colab_type": "code",
        "colab": {}
      },
      "source": [
        "# building a json file for prediction\n",
        "!python datasets/make_json.py -I datasets/small_parallel_enja/test.ja -O datasets/test.ja.json"
      ],
      "execution_count": 0,
      "outputs": []
    },
    {
      "cell_type": "code",
      "metadata": {
        "id": "aZSWn8iDQ0kH",
        "colab_type": "code",
        "colab": {}
      },
      "source": [
        "!allennlp predict --output-file tmp_ctc/output_pred.json --cuda-device 0 --include-package src --predictor small_parallel_enja_predictor  tmp_ctc/model.tar.gz datasets/test.ja.json"
      ],
      "execution_count": 0,
      "outputs": []
    },
    {
      "cell_type": "markdown",
      "metadata": {
        "id": "kVKHsMeDQ7W2",
        "colab_type": "text"
      },
      "source": [
        "### Transformer Autoregressive model (for comparison)"
      ]
    },
    {
      "cell_type": "code",
      "metadata": {
        "id": "0zINjemFRSov",
        "colab_type": "code",
        "colab": {}
      },
      "source": [
        "!cat configs/transformer_ar.jsonnet"
      ],
      "execution_count": 0,
      "outputs": []
    },
    {
      "cell_type": "code",
      "metadata": {
        "id": "eJA8Q_ozRXZs",
        "colab_type": "code",
        "colab": {}
      },
      "source": [
        "# %%writefile configs/transformer_ar.jsonnet"
      ],
      "execution_count": 0,
      "outputs": []
    },
    {
      "cell_type": "code",
      "metadata": {
        "id": "UUgePo2GPAgU",
        "colab_type": "code",
        "colab": {}
      },
      "source": [
        "!allennlp train -f --include-package src -s tmp_ar configs/transformer_ar.jsonnet"
      ],
      "execution_count": 0,
      "outputs": []
    },
    {
      "cell_type": "code",
      "metadata": {
        "id": "t94ZLjkAh81f",
        "colab_type": "code",
        "colab": {}
      },
      "source": [
        "!allennlp evaluate --output-file tmp_ar/output_test.json --cuda-device 0 --include-package src tmp_ar/model.tar.gz datasets/small_parallel_enja/test"
      ],
      "execution_count": 0,
      "outputs": []
    },
    {
      "cell_type": "code",
      "metadata": {
        "id": "cj0wrM3LWK1Z",
        "colab_type": "code",
        "colab": {}
      },
      "source": [
        "# !python datasets/make_json.py -I datasets/small_parallel_enja/test.ja -O datasets/test.ja.json"
      ],
      "execution_count": 0,
      "outputs": []
    },
    {
      "cell_type": "code",
      "metadata": {
        "id": "9jcdAZNAiLYJ",
        "colab_type": "code",
        "colab": {}
      },
      "source": [
        "!allennlp predict --output-file tmp_ar/output_pred.json --cuda-device 0 --include-package src --predictor small_parallel_enja_predictor  tmp_ar/model.tar.gz datasets/test.ja.json"
      ],
      "execution_count": 0,
      "outputs": []
    }
  ]
}